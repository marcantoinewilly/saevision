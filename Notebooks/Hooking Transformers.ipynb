{
 "cells": [
  {
   "cell_type": "code",
   "execution_count": null,
   "id": "588cc348",
   "metadata": {},
   "outputs": [],
   "source": [
    "from transformers import CLIPVisionModel, CLIPProcessor\n",
    "from PIL import Image\n",
    "import torch\n",
    "from Utilities import createImageDataloader"
   ]
  },
  {
   "cell_type": "code",
   "execution_count": 2,
   "id": "70f4f64f",
   "metadata": {},
   "outputs": [
    {
     "name": "stdout",
     "output_type": "stream",
     "text": [
      "Layer Count: 12\n"
     ]
    }
   ],
   "source": [
    "model = CLIPVisionModel.from_pretrained(\"openai/clip-vit-base-patch32\").eval()\n",
    "model.config.output_hidden_states = True\n",
    "processor = CLIPProcessor.from_pretrained(\"openai/clip-vit-base-patch32\")\n",
    "print(\"Layer Count:\", model.config.num_hidden_layers)"
   ]
  },
  {
   "cell_type": "code",
   "execution_count": 3,
   "id": "10f48176",
   "metadata": {},
   "outputs": [],
   "source": [
    "# Hook on a single Image\n",
    "\n",
    "img = Image.open(\"/Users/mawy/Desktop/imgs/00000000.png\").convert(\"RGB\")\n",
    "tensor = processor(images=img, return_tensors=\"pt\").pixel_values\n",
    "\n",
    "with torch.no_grad():\n",
    "    out = model(tensor, output_hidden_states=True).hidden_states[3]\n",
    "    cls1 = out[:, 0]      "
   ]
  },
  {
   "cell_type": "code",
   "execution_count": 4,
   "id": "e885a91f",
   "metadata": {},
   "outputs": [],
   "source": [
    "# Using createImageDataLoader from Utils\n",
    "\n",
    "loader = createImageDataloader(\n",
    "    \"/Users/mawy/Desktop/Square 512\",\n",
    "    model_name=\"openai/clip-vit-base-patch32\",\n",
    "    batch_size=1,\n",
    "    shuffle=False,\n",
    ")\n",
    "batch = next(iter(loader))\n",
    "cls2 = model(pixel_values = batch).hidden_states[3][:, 0] \n"
   ]
  },
  {
   "cell_type": "code",
   "execution_count": 5,
   "id": "291d2483",
   "metadata": {},
   "outputs": [
    {
     "name": "stdout",
     "output_type": "stream",
     "text": [
      "CLT 1 Shape: torch.Size([1, 768])\n",
      "CLT 2 Shape: torch.Size([1, 768])\n"
     ]
    }
   ],
   "source": [
    "print(\"CLT 1 Shape:\", cls1.shape)\n",
    "print(\"CLT 2 Shape:\", cls2.shape)"
   ]
  },
  {
   "cell_type": "code",
   "execution_count": 8,
   "id": "b7b6555f",
   "metadata": {},
   "outputs": [
    {
     "name": "stdout",
     "output_type": "stream",
     "text": [
      "First Value for CLT 1: tensor(-0.0319)\n",
      "First Value for CLT 2: tensor(-0.0326, grad_fn=<SelectBackward0>)\n"
     ]
    }
   ],
   "source": [
    "# Slightly Different Values - Why?\n",
    "\n",
    "print(\"First Value for CLT 1:\", cls1[0][0])\n",
    "print(\"First Value for CLT 2:\", cls2[0][0])"
   ]
  },
  {
   "cell_type": "code",
   "execution_count": 23,
   "id": "dc8be209",
   "metadata": {},
   "outputs": [
    {
     "data": {
      "image/png": "[encoded data removed]",
      "text/plain": [
       "<Figure size 640x480 with 1 Axes>"
      ]
     },
     "metadata": {},
     "output_type": "display_data"
    }
   ],
   "source": [
    "import seaborn as sns\n",
    "sns.scatterplot(\n",
    "    x=cls1[0,0:35].cpu().detach().numpy(),\n",
    "    y=cls2[0,0:35].cpu().detach().numpy(),\n",
    ");"
   ]
  },
  {
   "cell_type": "code",
   "execution_count": null,
   "id": "ba0f6030",
   "metadata": {},
   "outputs": [],
   "source": []
  }
 ],
 "metadata": {
  "kernelspec": {
   "display_name": "thesis",
   "language": "python",
   "name": "python3"
  },
  "language_info": {
   "codemirror_mode": {
    "name": "ipython",
    "version": 3
   },
   "file_extension": ".py",
   "mimetype": "text/x-python",
   "name": "python",
   "nbconvert_exporter": "python",
   "pygments_lexer": "ipython3",
   "version": "3.10.16"
  }
 },
 "nbformat": 4,
 "nbformat_minor": 5
}

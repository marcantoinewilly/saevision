{
 "cells": [
  {
   "cell_type": "code",
   "execution_count": 22,
   "metadata": {},
   "outputs": [
    {
     "name": "stderr",
     "output_type": "stream",
     "text": [
      "Downloading...\n",
      "From (original): https://drive.google.com/uc?id=1EZiws_atuzFLapKYyM9j2668UHSdtAs8\n",
      "From (redirected): https://drive.google.com/uc?id=1EZiws_atuzFLapKYyM9j2668UHSdtAs8&confirm=t&uuid=64f64554-b203-421c-abb5-5a5e3f4a2af0\n",
      "To: /Users/mawy/Desktop/saevision/vit.cpl\n",
      "100%|██████████| 343M/343M [00:10<00:00, 32.5MB/s] \n"
     ]
    },
    {
     "name": "stdout",
     "output_type": "stream",
     "text": [
      "[LOG] Downloaded ViT model to /Users/mawy/Desktop/saevision/vit.cpl\n",
      "[LOG] Extracting Images-2.zip → /Users/mawy/Desktop/saevision/Square Images\n",
      "[LOG] Extracting Images-3.zip → /Users/mawy/Desktop/saevision/Square Images\n",
      "[LOG] Extracting Images-1.zip → /Users/mawy/Desktop/saevision/Square Images\n",
      "[LOG] Extracting Images-4.zip → /Users/mawy/Desktop/saevision/Square Images\n",
      "[LOG] Images ready in '/Users/mawy/Desktop/saevision/Square Images' (flattened)\n"
     ]
    }
   ],
   "source": [
    "import Utilities\n",
    "Utilities.getViT()\n",
    "Utilities.getSquareImages()"
   ]
  },
  {
   "cell_type": "code",
   "execution_count": null,
   "metadata": {},
   "outputs": [],
   "source": [
    "loader = Utilities.createImageDataloader(\n",
    "    path=\"/Users/mawy/Desktop/saevision/Square Images\",\n",
    "    model_name=\"openai/clip-vit-base-patch32\",\n",
    "    batch_size=64,\n",
    "    shuffle=True,\n",
    "    drop_last=True,\n",
    ")"
   ]
  },
  {
   "cell_type": "code",
   "execution_count": 21,
   "metadata": {},
   "outputs": [],
   "source": [
    "import torch\n",
    "model = torch.load(\"vit.cpl\")"
   ]
  },
  {
   "cell_type": "code",
   "execution_count": null,
   "metadata": {},
   "outputs": [],
   "source": []
  },
  {
   "cell_type": "code",
   "execution_count": null,
   "metadata": {},
   "outputs": [],
   "source": []
  }
 ],
 "metadata": {
  "kernelspec": {
   "display_name": "thesis",
   "language": "python",
   "name": "python3"
  },
  "language_info": {
   "codemirror_mode": {
    "name": "ipython",
    "version": 3
   },
   "file_extension": ".py",
   "mimetype": "text/x-python",
   "name": "python",
   "nbconvert_exporter": "python",
   "pygments_lexer": "ipython3",
   "version": "3.10.16"
  }
 },
 "nbformat": 4,
 "nbformat_minor": 2
}

{
 "cells": [
  {
   "cell_type": "code",
   "execution_count": 2,
   "metadata": {},
   "outputs": [
    {
     "name": "stdout",
     "output_type": "stream",
     "text": [
      "1.13.1\n",
      "0.14.1\n"
     ]
    }
   ],
   "source": [
    "import torch, torchvision\n",
    "print(torch.__version__)       # 1.13.1\n",
    "print(torchvision.__version__) # 0.14.1"
   ]
  },
  {
   "cell_type": "code",
   "execution_count": 6,
   "metadata": {},
   "outputs": [
    {
     "name": "stderr",
     "output_type": "stream",
     "text": [
      "Downloading...\n",
      "From (original): https://drive.google.com/uc?id=1EZiws_atuzFLapKYyM9j2668UHSdtAs8\n",
      "From (redirected): https://drive.google.com/uc?id=1EZiws_atuzFLapKYyM9j2668UHSdtAs8&confirm=t&uuid=a619f2d4-96cb-4738-a414-8821c42385c8\n",
      "To: /Users/mawy/Desktop/saevision/vit.cpl\n",
      "100%|██████████| 343M/343M [00:47<00:00, 7.22MB/s]]\n"
     ]
    },
    {
     "name": "stdout",
     "output_type": "stream",
     "text": [
      "[LOG] Downloaded ViT model to /Users/mawy/Desktop/saevision/vit.cpl\n",
      "[LOG] Extracting Images-2.zip → /Users/mawy/Desktop/Square Images\n",
      "[LOG] Extracting Images-3.zip → /Users/mawy/Desktop/Square Images\n",
      "[LOG] Extracting Images-1.zip → /Users/mawy/Desktop/Square Images\n",
      "[LOG] Extracting Images-4.zip → /Users/mawy/Desktop/Square Images\n",
      "[LOG] Images ready in '/Users/mawy/Desktop/Square Images' (flattened)\n"
     ]
    }
   ],
   "source": [
    "import Utilities\n",
    "Utilities.downloadPEALViT()\n",
    "Utilities.unzipSquareImages()"
   ]
  },
  {
   "cell_type": "code",
   "execution_count": 7,
   "metadata": {},
   "outputs": [],
   "source": [
    "loader = Utilities.createImageDataloader(\n",
    "    path=\"/Users/mawy/Desktop/Square Images\",\n",
    "    model_name=\"vit_b_16\",\n",
    "    image_size=64,\n",
    "    batch_size=64,\n",
    "    shuffle=True,\n",
    "    drop_last=True,\n",
    ")"
   ]
  },
  {
   "cell_type": "code",
   "execution_count": 11,
   "metadata": {},
   "outputs": [],
   "source": [
    "import torch\n",
    "import torch.nn as nn\n",
    "from torchvision.models.vision_transformer import VisionTransformer\n",
    "\n",
    "ckpt_path   = \"vit.cpl\"\n",
    "device      = \"cuda\" if torch.cuda.is_available() else \"cpu\"\n",
    "\n",
    "state_raw = torch.load(ckpt_path, map_location=\"cpu\")\n",
    "state = {k.replace(\"model.\", \"\", 1): v for k, v in state_raw.items()}\n",
    "\n",
    "model = VisionTransformer(\n",
    "    image_size = 64,\n",
    "    patch_size = 16,\n",
    "    num_layers = 12,\n",
    "    num_heads  = 12,\n",
    "    hidden_dim = 768,\n",
    "    mlp_dim    = 3072,\n",
    "    dropout    = 0.0,\n",
    "    num_classes = 0,\n",
    ")\n",
    "\n",
    "model.heads = nn.Identity()\n",
    "\n",
    "model.load_state_dict(state, strict=False)\n",
    "model = model.to(device).eval()"
   ]
  },
  {
   "cell_type": "code",
   "execution_count": 12,
   "metadata": {},
   "outputs": [
    {
     "name": "stdout",
     "output_type": "stream",
     "text": [
      "Feature-Vektor-Shape: torch.Size([1, 768])\n"
     ]
    }
   ],
   "source": [
    "with torch.inference_mode():\n",
    "    feats = model(torch.randn(1, 3, 64, 64).to(device))   # (1, 768)\n",
    "print(\"Feature-Vektor-Shape:\", feats.shape)"
   ]
  },
  {
   "cell_type": "code",
   "execution_count": 13,
   "metadata": {},
   "outputs": [
    {
     "name": "stdout",
     "output_type": "stream",
     "text": [
      "torch.Size([64, 768])\n"
     ]
    }
   ],
   "source": [
    "loader_iter = iter(loader)          \n",
    "batch      = next(loader_iter) \n",
    "\n",
    "imgs = batch.to(device)         \n",
    "\n",
    "with torch.inference_mode():\n",
    "    feats = model(imgs)         \n",
    "\n",
    "print(feats.shape)"
   ]
  },
  {
   "cell_type": "code",
   "execution_count": null,
   "metadata": {},
   "outputs": [],
   "source": []
  }
 ],
 "metadata": {
  "kernelspec": {
   "display_name": "thesis",
   "language": "python",
   "name": "python3"
  },
  "language_info": {
   "codemirror_mode": {
    "name": "ipython",
    "version": 3
   },
   "file_extension": ".py",
   "mimetype": "text/x-python",
   "name": "python",
   "nbconvert_exporter": "python",
   "pygments_lexer": "ipython3",
   "version": "3.10.16"
  }
 },
 "nbformat": 4,
 "nbformat_minor": 2
}
